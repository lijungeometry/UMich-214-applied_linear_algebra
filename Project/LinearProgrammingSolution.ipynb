{
 "cells": [
  {
   "cell_type": "code",
   "execution_count": 2,
   "metadata": {},
   "outputs": [
    {
     "data": {
      "text/plain": [
       "<matplotlib.legend.Legend at 0x24eac76ae88>"
      ]
     },
     "execution_count": 2,
     "metadata": {},
     "output_type": "execute_result"
    },
    {
     "data": {
      "image/png": "[encoded data removed]",
      "text/plain": [
       "<Figure size 432x288 with 1 Axes>"
      ]
     },
     "metadata": {
      "needs_background": "light"
     },
     "output_type": "display_data"
    }
   ],
   "source": [
    "import numpy as np\n",
    "import matplotlib.pyplot as plt\n",
    "%matplotlib inline\n",
    "\n",
    "# Construct lines\n",
    "# z >= 0\n",
    "z = np.linspace(0, 20, 2000)\n",
    "y = np.linspace(0, 20, 2000)\n",
    "# y >= 0\n",
    "y1 = (z*0)  \n",
    "# y <= 21 - 3z\n",
    "y2 = (21-3*z)\n",
    "# y <= 9 - z \n",
    "y3 = 9-z\n",
    "# 2y <= 14 - z \n",
    "y4 = (14-z)/2\n",
    "\n",
    "# Make plot\n",
    "plt.plot(z, y1, label=r'$y\\geq0$')\n",
    "plt.plot(z, y2, label=r'$y\\leq21 - 3z$')\n",
    "plt.plot(z, y3, label=r'$y +z\\leq 9$')\n",
    "plt.plot(z, y4, label=r'$2y+z\\leq 14$')\n",
    "plt.ylim((0, 22))\n",
    "plt.xlim((0, 11))\n",
    "plt.xlabel(r'$z$')\n",
    "plt.ylabel(r'$y$')\n",
    "\n",
    "# Fill feasible region\n",
    "y5 = np.minimum(np.minimum(y2, y3), y4)\n",
    "#y6 = np.maximum(y1, y3)\n",
    "plt.fill_between(z, y5,  color='grey', alpha=0.5)\n",
    "plt.legend(bbox_to_anchor=(1.05, 1), loc=2, borderaxespad=0.)\n",
    "#plt.scatter(xi,yi, color='black' )"
   ]
  },
  {
   "cell_type": "markdown",
   "metadata": {},
   "source": [
    "Q2:5 intersection points [u,v,w,y,z]:\n",
    "    \n",
    "    [21,9,14,0,0]\n",
    "    [0,0,2,3,6]\n",
    "    [14,2,0,7,0]\n",
    "    [0,2,7,0,7]\n",
    "    [5,0,0,5,4]\n",
    "    \n",
    "Q3, Q4 see below:"
   ]
  },
  {
   "cell_type": "code",
   "execution_count": 5,
   "metadata": {},
   "outputs": [
    {
     "name": "stdout",
     "output_type": "stream",
     "text": [
      "Matrix : Matrix([[1, 0, 0, 1, 3, 21], [0, 1, 0, 1, 1, 9], [0, 0, 1, 2, 1, 14]]) \n",
      "The Row echelon form of matrix M(u,v,w,y,z) and the pivot columns : (Matrix([\n",
      "[1, 0, 0, 1, 3, 21],\n",
      "[0, 1, 0, 1, 1,  9],\n",
      "[0, 0, 1, 2, 1, 14]]), (0, 1, 2))\n"
     ]
    }
   ],
   "source": [
    "import numpy as np\n",
    "import sympy  \n",
    "from sympy import * \n",
    "M=Matrix([[1,0,0,1, 3, 21], [0,1,0, 1, 1, 9], [0,0, 1, 2, 1, 14]]) \n",
    "print(\"Matrix : {} \".format(M)) \n",
    "   \n",
    "# Use sympy.rref() method  \n",
    "M_rref = M.rref()   \n",
    "      \n",
    "print(\"The Row echelon form of matrix M(u,v,w,y,z) and the pivot columns : {}\".format(M_rref))   \n"
   ]
  },
  {
   "cell_type": "code",
   "execution_count": 6,
   "metadata": {},
   "outputs": [
    {
     "name": "stdout",
     "output_type": "stream",
     "text": [
      "M(yuvwz)=\n"
     ]
    },
    {
     "data": {
      "text/latex": [
       "$\\displaystyle \\left[\\begin{matrix}1 & 0 & 0 & 1 & 3 & 21\\\\1 & 1 & 0 & 0 & 1 & 9\\\\2 & 0 & 1 & 0 & 1 & 14\\end{matrix}\\right]$"
      ],
      "text/plain": [
       "Matrix([\n",
       "[1, 0, 0, 1, 3, 21],\n",
       "[1, 1, 0, 0, 1,  9],\n",
       "[2, 0, 1, 0, 1, 14]])"
      ]
     },
     "execution_count": 6,
     "metadata": {},
     "output_type": "execute_result"
    }
   ],
   "source": [
    "#M.permute([[0, 3],[1,3],[2,3]], orientation='columns', direction='forward')\n",
    "print(\"M(yvwuz)=\")\n",
    "M.permute([[0, 3]], orientation='columns', direction='forward')"
   ]
  },
  {
   "cell_type": "code",
   "execution_count": 7,
   "metadata": {},
   "outputs": [
    {
     "name": "stdout",
     "output_type": "stream",
     "text": [
      "The Row echelon form of matrix M(y,v,w,u,z) and the pivot columns : (Matrix([\n",
      "[1, 0, 0,  1,  3,  21],\n",
      "[0, 1, 0, -1, -2, -12],\n",
      "[0, 0, 1, -2, -5, -28]]), (0, 1, 2))\n"
     ]
    }
   ],
   "source": [
    "\n",
    "M2= M.permute([[0, 3]], orientation='columns', direction='forward')\n",
    "M2_rref = M2.rref() \n",
    "print(\"The Row echelon form of matrix M(y,v,w,u,z) and the pivot columns : {}\".format(M2_rref))   "
   ]
  },
  {
   "cell_type": "code",
   "execution_count": 8,
   "metadata": {},
   "outputs": [
    {
     "name": "stdout",
     "output_type": "stream",
     "text": [
      "M(uyvwz)=\n"
     ]
    },
    {
     "data": {
      "text/latex": [
       "$\\displaystyle \\left[\\begin{matrix}1 & 1 & 0 & 0 & 3 & 21\\\\0 & 1 & 0 & 1 & 1 & 9\\\\0 & 2 & 1 & 0 & 1 & 14\\end{matrix}\\right]$"
      ],
      "text/plain": [
       "Matrix([\n",
       "[1, 1, 0, 0, 3, 21],\n",
       "[0, 1, 0, 1, 1,  9],\n",
       "[0, 2, 1, 0, 1, 14]])"
      ]
     },
     "execution_count": 8,
     "metadata": {},
     "output_type": "execute_result"
    }
   ],
   "source": [
    "#M.permute([[0, 3],[1,3],[2,3]], orientation='columns', direction='forward')\n",
    "print(\"M(uywvz)=\")\n",
    "M.permute([[1, 3]], orientation='columns', direction='forward')"
   ]
  },
  {
   "cell_type": "code",
   "execution_count": 12,
   "metadata": {},
   "outputs": [
    {
     "name": "stdout",
     "output_type": "stream",
     "text": [
      "The Row echelon form of matrix M(u,y,w,v,z) and the pivot columns : (Matrix([\n",
      "[1, 0, 0, -1,  2, 12],\n",
      "[0, 1, 0,  1,  1,  9],\n",
      "[0, 0, 1, -2, -1, -4]]), (0, 1, 2))\n"
     ]
    }
   ],
   "source": [
    "\n",
    "M3= M.permute([[1,3]], orientation='columns', direction='forward')\n",
    "M3_rref = M3.rref() \n",
    "print(\"The Row echelon form of matrix M(u,y,w,v,z) and the pivot columns : {}\".format(M3_rref))"
   ]
  },
  {
   "cell_type": "code",
   "execution_count": 13,
   "metadata": {},
   "outputs": [
    {
     "name": "stdout",
     "output_type": "stream",
     "text": [
      "M(uvywz)=\n"
     ]
    },
    {
     "data": {
      "text/latex": [
       "$\\displaystyle \\left[\\begin{matrix}1 & 0 & 1 & 0 & 3 & 21\\\\0 & 1 & 1 & 0 & 1 & 9\\\\0 & 0 & 2 & 1 & 1 & 14\\end{matrix}\\right]$"
      ],
      "text/plain": [
       "Matrix([\n",
       "[1, 0, 1, 0, 3, 21],\n",
       "[0, 1, 1, 0, 1,  9],\n",
       "[0, 0, 2, 1, 1, 14]])"
      ]
     },
     "execution_count": 13,
     "metadata": {},
     "output_type": "execute_result"
    }
   ],
   "source": [
    "#M.permute([[0, 3],[1,3],[2,3]], orientation='columns', direction='forward')\n",
    "print(\"M(uvywz)=\")\n",
    "M.permute([[2,3]], orientation='columns', direction='forward')"
   ]
  },
  {
   "cell_type": "code",
   "execution_count": 14,
   "metadata": {},
   "outputs": [
    {
     "name": "stdout",
     "output_type": "stream",
     "text": [
      "The Row echelon form of matrix M(u,v,y,w,z) and the pivot columns : (Matrix([\n",
      "[1, 0, 0, -1/2, 5/2, 14],\n",
      "[0, 1, 0, -1/2, 1/2,  2],\n",
      "[0, 0, 1,  1/2, 1/2,  7]]), (0, 1, 2))\n"
     ]
    }
   ],
   "source": [
    "\n",
    "M4= M.permute([[2,3]], orientation='columns', direction='forward')\n",
    "M4_rref = M4.rref() \n",
    "print(\"The Row echelon form of matrix M(u,v,y,w,z) and the pivot columns : {}\".format(M4_rref))"
   ]
  },
  {
   "cell_type": "markdown",
   "metadata": {},
   "source": [
    "Q5: Solutions all correspondes to vertices. see Q4."
   ]
  },
  {
   "cell_type": "markdown",
   "metadata": {},
   "source": [
    "Q6: x1, x2,x3, x4= 5,6,2,1"
   ]
  },
  {
   "cell_type": "markdown",
   "metadata": {},
   "source": [
    "Q7: Q has to be the point where x5=0 and x2>0.  Basically by trying and error.\n",
    "We have to use x1,x2,x3,x4=5,0,10,7, x5=2."
   ]
  },
  {
   "cell_type": "code",
   "execution_count": 119,
   "metadata": {},
   "outputs": [
    {
     "name": "stdout",
     "output_type": "stream",
     "text": [
      "Matrix : Matrix([[1, 0, 0, 0, 1, -3, -4, 2, 5], [0, 1, 0, 0, 3, 7, 2, -2, 6], [0, 0, 1, 0, -4, -2, -7, -2, 2], [0, 0, 0, 1, -3, 4, 3, 3, 1]]) \n"
     ]
    }
   ],
   "source": [
    "M5=Matrix([[1,0,0,0,1, -3,-4,2, 5], [0,1,0,0, 3, 7, 2,-2,6], [0,0, 1, 0, -4, -2, -7, -2, 2], [0,0, 0, 1, -3, 4, 3, 3, 1]]) \n",
    "print(\"Matrix : {} \".format(M5)) \n",
    "   \n"
   ]
  },
  {
   "cell_type": "code",
   "execution_count": 120,
   "metadata": {},
   "outputs": [
    {
     "name": "stdout",
     "output_type": "stream",
     "text": [
      "The Row echelon form of matrix   and the pivot columns : (Matrix([\n",
      "[1, 0, 0, 0, -1/3, -16/3, -14/3,   8/3,  3],\n",
      "[0, 1, 0, 0,  1/3,   7/3,   2/3,  -2/3,  2],\n",
      "[0, 0, 1, 0,  4/3,  22/3, -13/3, -14/3, 10],\n",
      "[0, 0, 0, 1,    1,    11,     5,     1,  7]]), (0, 1, 2, 3))\n"
     ]
    }
   ],
   "source": [
    "M6= M5.permute([[1,4]], orientation='columns', direction='forward')\n",
    "# Use sympy.rref() method  \n",
    "M6_rref = M6.rref() \n",
    "print(\"The Row echelon form of matrix   and the pivot columns : {}\".format(M6_rref))\n"
   ]
  },
  {
   "cell_type": "markdown",
   "metadata": {},
   "source": [
    "Q9. When x5 has a positive coefficient, x1 will decrease; and when x5 has a negative coefficient, then x1 increases. "
   ]
  },
  {
   "cell_type": "code",
   "execution_count": null,
   "metadata": {},
   "outputs": [],
   "source": []
  },
  {
   "cell_type": "code",
   "execution_count": null,
   "metadata": {},
   "outputs": [],
   "source": []
  },
  {
   "cell_type": "code",
   "execution_count": null,
   "metadata": {},
   "outputs": [],
   "source": []
  },
  {
   "cell_type": "code",
   "execution_count": null,
   "metadata": {},
   "outputs": [],
   "source": []
  },
  {
   "cell_type": "code",
   "execution_count": null,
   "metadata": {},
   "outputs": [],
   "source": []
  },
  {
   "cell_type": "code",
   "execution_count": null,
   "metadata": {},
   "outputs": [],
   "source": []
  },
  {
   "cell_type": "code",
   "execution_count": null,
   "metadata": {},
   "outputs": [],
   "source": [
    "Q10:\n",
    "p=2e+6l+4c;\n",
    "g=1000-8e-10l-7.5c;\n",
    "m=1-0.03125l;\n",
    "s=10-0.125l-0.125c."
   ]
  },
  {
   "cell_type": "code",
   "execution_count": 125,
   "metadata": {},
   "outputs": [
    {
     "name": "stdout",
     "output_type": "stream",
     "text": [
      "The order of variable is p,g,m,s,e,l,c\n",
      "Q10 answer in Matrix : <bound method MatrixReductions.rref of Matrix([\n",
      "[1, 0, 0, 0, -2,      -6,    -5,    0],\n",
      "[0, 1, 0, 0,  8,      10,   7.5, 1000],\n",
      "[0, 0, 1, 0,  0, 0.03125,     0,    1],\n",
      "[0, 0, 0, 1,  0,   0.125, 0.125,   10]])> \n"
     ]
    }
   ],
   "source": [
    "M10=Matrix([[1,0,0,0, -2,-6,-5, 0], [0,1,0,0, 8, 10, 7.5,1000], [0,0, 1, 0, 0, 0.03125, 0, 1], [0,0, 0, 1, 0, 0.125, 0.125, 10]]) \n",
    "print(\"The order of variable is p,g,m,s,e,l,c\")\n",
    "M10_rref = M10.rref()\n",
    "print(\"Q10 answer in Matrix : {} \".format(M10.rref)) \n"
   ]
  },
  {
   "cell_type": "code",
   "execution_count": 126,
   "metadata": {},
   "outputs": [
    {
     "name": "stdout",
     "output_type": "stream",
     "text": [
      "Initial tableau:\n",
      "[8, 10, 7.5, 1, 0, 0, 1000]\n",
      "[0, 0.03125, 0, 0, 1, 0, 1]\n",
      "[0, 0.125, 0.125, 0, 0, 1, 10]\n",
      "[2, 6, 4, 0, 0, 0, 0]\n",
      "\n",
      "Next pivot index is=0,0 \n",
      "\n",
      "Tableau after pivot:\n",
      "[1.0, 1.25, 0.9375, 0.125, 0.0, 0.0, 125.0]\n",
      "[0.0, 0.03125, 0.0, 0.0, 1.0, 0.0, 1.0]\n",
      "[0.0, 0.125, 0.125, 0.0, 0.0, 1.0, 10.0]\n",
      "[0.0, 3.5, 2.125, -0.25, 0.0, 0.0, -250.0]\n",
      "\n",
      "Next pivot index is=2,2 \n",
      "\n",
      "Tableau after pivot:\n",
      "[1.0, 0.3125, 0.0, 0.125, 0.0, -7.5, 50.0]\n",
      "[0.0, 0.03125, 0.0, 0.0, 1.0, 0.0, 1.0]\n",
      "[0.0, 1.0, 1.0, 0.0, 0.0, 8.0, 80.0]\n",
      "[0.0, 1.375, 0.0, -0.25, 0.0, -17.0, -420.0]\n",
      "\n",
      "Next pivot index is=1,1 \n",
      "\n",
      "Tableau after pivot:\n",
      "[1.0, 0.0, 0.0, 0.125, -10.0, -7.5, 40.0]\n",
      "[0.0, 1.0, 0.0, 0.0, 32.0, 0.0, 32.0]\n",
      "[0.0, 0.0, 1.0, 0.0, -32.0, 8.0, 48.0]\n",
      "[0.0, 0.0, 0.0, -0.25, -44.0, -17.0, -464.0]\n",
      "\n",
      "[(0, 40.0), (1, 32.0), (2, 48.0)]\n",
      "464.0\n"
     ]
    }
   ],
   "source": [
    "import heapq\n",
    "\n",
    "\n",
    "'''\n",
    "   Return a rectangular identity matrix with the specified diagonal entiries, possibly\n",
    "   starting in the middle.\n",
    "'''\n",
    "def identity(numRows, numCols, val=1, rowStart=0):\n",
    "   return [[(val if i == j else 0) for j in range(numCols)]\n",
    "               for i in range(rowStart, numRows)]\n",
    "\n",
    "\n",
    "'''\n",
    "   standardForm: [float], [[float]], [float], [[float]], [float], [[float]], [float] -> [float], [[float]], [float]\n",
    "   Convert a linear program in general form to the standard form for the\n",
    "   simplex algorithm.  The inputs are assumed to have the correct dimensions: cost\n",
    "   is a length n list, greaterThans is an n-by-m matrix, gtThreshold is a vector\n",
    "   of length m, with the same pattern holding for the remaining inputs. No\n",
    "   dimension errors are caught, and we assume there are no unrestricted variables.\n",
    "'''\n",
    "def standardForm(cost, greaterThans=[], gtThreshold=[], lessThans=[], ltThreshold=[],\n",
    "                equalities=[], eqThreshold=[], maximization=True):\n",
    "   newVars = 0\n",
    "   numRows = 0\n",
    "   if gtThreshold != []:\n",
    "      newVars += len(gtThreshold)\n",
    "      numRows += len(gtThreshold)\n",
    "   if ltThreshold != []:\n",
    "      newVars += len(ltThreshold)\n",
    "      numRows += len(ltThreshold)\n",
    "   if eqThreshold != []:\n",
    "      numRows += len(eqThreshold)\n",
    "\n",
    "   if not maximization:\n",
    "      cost = [-x for x in cost]\n",
    "\n",
    "   if newVars == 0:\n",
    "      return cost, equalities, eqThreshold\n",
    "\n",
    "   newCost = list(cost) + [0] * newVars\n",
    "\n",
    "   constraints = []\n",
    "   threshold = []\n",
    "\n",
    "   oldConstraints = [(greaterThans, gtThreshold, -1), (lessThans, ltThreshold, 1),\n",
    "                     (equalities, eqThreshold, 0)]\n",
    "\n",
    "   offset = 0\n",
    "   for constraintList, oldThreshold, coefficient in oldConstraints:\n",
    "      constraints += [c + r for c, r in zip(constraintList,\n",
    "         identity(numRows, newVars, coefficient, offset))]\n",
    "\n",
    "      threshold += oldThreshold\n",
    "      offset += len(oldThreshold)\n",
    "\n",
    "   return newCost, constraints, threshold\n",
    "\n",
    "\n",
    "def dot(a,b):\n",
    "   return sum(x*y for x,y in zip(a,b))\n",
    "\n",
    "def column(A, j):\n",
    "   return [row[j] for row in A]\n",
    "\n",
    "def transpose(A):\n",
    "   return [column(A, j) for j in range(len(A[0]))]\n",
    "\n",
    "def isPivotCol(col):\n",
    "   return (len([c for c in col if c == 0]) == len(col) - 1) and sum(col) == 1\n",
    "\n",
    "def variableValueForPivotColumn(tableau, column):\n",
    "   pivotRow = [i for (i, x) in enumerate(column) if x == 1][0]\n",
    "   return tableau[pivotRow][-1]\n",
    "\n",
    "# assume the last m columns of A are the slack variables; the initial basis is\n",
    "# the set of slack variables\n",
    "def initialTableau(c, A, b):\n",
    "   tableau = [row[:] + [x] for row, x in zip(A, b)]\n",
    "   tableau.append([ci for ci in c] + [0])\n",
    "   return tableau\n",
    "\n",
    "\n",
    "def primalSolution(tableau):\n",
    "   # the pivot columns denote which variables are used\n",
    "   columns = transpose(tableau)\n",
    "   indices = [j for j, col in enumerate(columns[:-1]) if isPivotCol(col)]\n",
    "   return [(colIndex, variableValueForPivotColumn(tableau, columns[colIndex]))\n",
    "            for colIndex in indices]\n",
    "\n",
    "\n",
    "def objectiveValue(tableau):\n",
    "   return -(tableau[-1][-1])\n",
    "\n",
    "\n",
    "def canImprove(tableau):\n",
    "   lastRow = tableau[-1]\n",
    "   return any(x > 0 for x in lastRow[:-1])\n",
    "\n",
    "\n",
    "# this can be slightly faster\n",
    "def moreThanOneMin(L):\n",
    "   if len(L) <= 1:\n",
    "      return False\n",
    "\n",
    "   x,y = heapq.nsmallest(2, L, key=lambda x: x[1])\n",
    "   return x == y\n",
    "\n",
    "\n",
    "def findPivotIndex(tableau):\n",
    "   # pick minimum positive index of the last row\n",
    "   column_choices = [(i,x) for (i,x) in enumerate(tableau[-1][:-1]) if x > 0]\n",
    "   column = min(column_choices, key=lambda a: a[1])[0]\n",
    "\n",
    "   # check if unbounded\n",
    "   if all(row[column] <= 0 for row in tableau):\n",
    "      raise Exception('Linear program is unbounded.')\n",
    "\n",
    "   # check for degeneracy: more than one minimizer of the quotient\n",
    "   quotients = [(i, r[-1] / r[column])\n",
    "      for i,r in enumerate(tableau[:-1]) if r[column] > 0]\n",
    "\n",
    "   if moreThanOneMin(quotients):\n",
    "      raise Exception('Linear program is degenerate.')\n",
    "\n",
    "   # pick row index minimizing the quotient\n",
    "   row = min(quotients, key=lambda x: x[1])[0]\n",
    "\n",
    "   return row, column\n",
    "\n",
    "\n",
    "def pivotAbout(tableau, pivot):\n",
    "   i,j = pivot\n",
    "\n",
    "   pivotDenom = tableau[i][j]\n",
    "   tableau[i] = [x / pivotDenom for x in tableau[i]]\n",
    "\n",
    "   for k,row in enumerate(tableau):\n",
    "      if k != i:\n",
    "         pivotRowMultiple = [y * tableau[k][j] for y in tableau[i]]\n",
    "         tableau[k] = [x - y for x,y in zip(tableau[k], pivotRowMultiple)]\n",
    "\n",
    "\n",
    "'''\n",
    "   simplex: [float], [[float]], [float] -> [float], float\n",
    "   Solve the given standard-form linear program:\n",
    "      max <c,x>\n",
    "      s.t. Ax = b\n",
    "           x >= 0\n",
    "   providing the optimal solution x* and the value of the objective function\n",
    "'''\n",
    "def simplex(c, A, b):\n",
    "   tableau = initialTableau(c, A, b)\n",
    "   print(\"Initial tableau:\")\n",
    "   for row in tableau:\n",
    "      print(row)\n",
    "   print()\n",
    "\n",
    "   while canImprove(tableau):\n",
    "      pivot = findPivotIndex(tableau)\n",
    "      print(\"Next pivot index is=%d,%d \\n\" % pivot)\n",
    "      pivotAbout(tableau, pivot)\n",
    "      print(\"Tableau after pivot:\")\n",
    "      for row in tableau:\n",
    "         print(row)\n",
    "      print()\n",
    "\n",
    "   return tableau, primalSolution(tableau), objectiveValue(tableau)\n",
    "\n",
    "\n",
    "if __name__ == \"__main__\":\n",
    "   c = [2, 6, 4]\n",
    "\n",
    "#M10=Matrix([[1,0,0,0, -2,-6,-5, 0], [0,1,0,0, 8, 0, 0,1000],[0,0, 1, 0, 0, 0.03125, 0, 1], [0,0, 0, 1, 0, 0.125, 0.125, 10]]) \n",
    "\n",
    "\n",
    "   A =[ [8, 10, 7.5], [0, 0.03125, 0], [0, 0.125, 0.125,]]\n",
    "   b = [1000, 1, 10]\n",
    "\n",
    "   # add slack variables by hand\n",
    "   A[0] += [1,0,0]\n",
    "   A[1] += [0,1,0]\n",
    "   A[2] += [0,0,1]\n",
    "   #A[3] += [0,0,0,-1]\n",
    "   c += [0,0,0]\n",
    "\n",
    "   t, s, v = simplex(c, A, b)\n",
    "   print(s)\n",
    "   print(v)\n"
   ]
  },
  {
   "cell_type": "markdown",
   "metadata": {},
   "source": [
    "Q11. Answer  as above, not that the order is e=40, l=32, c=48"
   ]
  },
  {
   "cell_type": "code",
   "execution_count": 15,
   "metadata": {},
   "outputs": [
    {
     "ename": "SyntaxError",
     "evalue": "Missing parentheses in call to 'print'. Did you mean print(\"Now at row\", r, \"and col\", c, \"with matrix:\")? (<ipython-input-15-89af5ac526f1>, line 10)",
     "output_type": "error",
     "traceback": [
      "\u001b[1;36m  File \u001b[1;32m\"<ipython-input-15-89af5ac526f1>\"\u001b[1;36m, line \u001b[1;32m10\u001b[0m\n\u001b[1;33m    if debug: print \"Now at row\", r, \"and col\", c, \"with matrix:\"; print A\u001b[0m\n\u001b[1;37m                               ^\u001b[0m\n\u001b[1;31mSyntaxError\u001b[0m\u001b[1;31m:\u001b[0m Missing parentheses in call to 'print'. Did you mean print(\"Now at row\", r, \"and col\", c, \"with matrix:\")?\n"
     ]
    }
   ],
   "source": [
    "import numpy as np\n",
    "\n",
    "def rref(B, tol=1e-8, debug=False):\n",
    "  A = B.copy()\n",
    "  rows, cols = A.shape\n",
    "  r = 0\n",
    "  pivots_pos = []\n",
    "  row_exchanges = np.arange(rows)\n",
    "  for c in range(cols):\n",
    "    if debug: print \"Now at row\", r, \"and col\", c, \"with matrix:\"; print A\n",
    "\n",
    "    ## Find the pivot row:\n",
    "    pivot = np.argmax (np.abs (A[r:rows,c])) + r\n",
    "    m = np.abs(A[pivot, c])\n",
    "    if debug: print \"Found pivot\", m, \"in row\", pivot\n",
    "    if m <= tol:\n",
    "      ## Skip column c, making sure the approximately zero terms are\n",
    "      ## actually zero.\n",
    "      A[r:rows, c] = np.zeros(rows-r)\n",
    "      if debug: print \"All elements at and below (\", r, \",\", c, \") are zero.. moving on..\"\n",
    "    else:\n",
    "      ## keep track of bound variables\n",
    "      pivots_pos.append((r,c))\n",
    "\n",
    "      if pivot != r:\n",
    "        ## Swap current row and pivot row\n",
    "        A[[pivot, r], c:cols] = A[[r, pivot], c:cols]\n",
    "        row_exchanges[[pivot,r]] = row_exchanges[[r,pivot]]\n",
    "        \n",
    "        if debug: print \"Swap row\", r, \"with row\", pivot, \"Now:\"; print A\n",
    "\n",
    "      ## Normalize pivot row\n",
    "      A[r, c:cols] = A[r, c:cols] / A[r, c];\n",
    "\n",
    "      ## Eliminate the current column\n",
    "      v = A[r, c:cols]\n",
    "      ## Above (before row r):\n",
    "      if r > 0:\n",
    "        ridx_above = np.arange(r)\n",
    "        A[ridx_above, c:cols] = A[ridx_above, c:cols] - np.outer(v, A[ridx_above, c]).T\n",
    "        if debug: print \"Elimination above performed:\"; print A\n",
    "      ## Below (after row r):\n",
    "      if r < rows-1:\n",
    "        ridx_below = np.arange(r+1,rows)\n",
    "        A[ridx_below, c:cols] = A[ridx_below, c:cols] - np.outer(v, A[ridx_below, c]).T\n",
    "        if debug: print \"Elimination below performed:\"; print A\n",
    "      r += 1\n",
    "    ## Check if done\n",
    "    if r == rows:\n",
    "      break;\n",
    "  return (A, pivots_pos, row_exchanges)"
   ]
  },
  {
   "cell_type": "code",
   "execution_count": 18,
   "metadata": {},
   "outputs": [
    {
     "ename": "IndentationError",
     "evalue": "expected an indented block (<ipython-input-18-e75a4ebfa43a>, line 2)",
     "output_type": "error",
     "traceback": [
      "\u001b[1;36m  File \u001b[1;32m\"<ipython-input-18-e75a4ebfa43a>\"\u001b[1;36m, line \u001b[1;32m2\u001b[0m\n\u001b[1;33m    matrix = [[1, 1, 0, 0, 0, 0],\u001b[0m\n\u001b[1;37m         ^\u001b[0m\n\u001b[1;31mIndentationError\u001b[0m\u001b[1;31m:\u001b[0m expected an indented block\n"
     ]
    }
   ],
   "source": [
    "def main():\n",
    "matrix = [[1, 1, 0, 0, 0, 0],\n",
    "[0, 0, 1, 1, 0, 3],\n",
    "[-3, -3, 0, 0, 0, 0]]\n",
    "print(rref(matrix))\n",
    "\n"
   ]
  },
  {
   "cell_type": "code",
   "execution_count": null,
   "metadata": {},
   "outputs": [],
   "source": []
  }
 ],
 "metadata": {
  "kernelspec": {
   "display_name": "Python 3",
   "language": "python",
   "name": "python3"
  },
  "language_info": {
   "codemirror_mode": {
    "name": "ipython",
    "version": 3
   },
   "file_extension": ".py",
   "mimetype": "text/x-python",
   "name": "python",
   "nbconvert_exporter": "python",
   "pygments_lexer": "ipython3",
   "version": "3.7.4"
  },
  "toc": {
   "base_numbering": 1,
   "nav_menu": {},
   "number_sections": true,
   "sideBar": true,
   "skip_h1_title": false,
   "title_cell": "Table of Contents",
   "title_sidebar": "Contents",
   "toc_cell": false,
   "toc_position": {},
   "toc_section_display": true,
   "toc_window_display": false
  }
 },
 "nbformat": 4,
 "nbformat_minor": 2
}
